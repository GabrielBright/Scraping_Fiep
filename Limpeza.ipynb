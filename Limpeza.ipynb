{
 "cells": [
  {
   "cell_type": "markdown",
   "id": "dc593c6b",
   "metadata": {},
   "source": [
    "Filtros"
   ]
  },
  {
   "cell_type": "code",
   "execution_count": 16,
   "id": "b026d8b6",
   "metadata": {},
   "outputs": [],
   "source": [
    "import pandas as pd\n",
    "\n",
    "fipe_base = pd.read_excel('Fipe_temp.xlsx')\n",
    "\n",
    "fipe_base[['Ano', 'Combustivel']] = fipe_base['AnoSelecionado'].str.split(' ', n=1, expand=True)\n",
    "\n",
    "fipe_base = fipe_base.drop(columns = ['AnoSelecionado'])\n",
    "\n",
    "fipe_base.rename(columns={\n",
    "    'MarcaSelecionada': 'Marca',\n",
    "    'ModeloSelecionado': 'Modelo',\n",
    "    'CodigoFipe': 'Codigo Fipe',\n",
    "    'PrecoMedio': 'Preco Medio'\n",
    "}, inplace=True)\n",
    "\n",
    "organizando = ['Marca', 'Modelo', 'Codigo Fipe', 'Preco Medio', 'Combustivel', 'Ano',  'Mes Referencia']\n",
    "\n",
    "fipe_base = fipe_base[organizando]\n",
    "\n",
    "fipe_base.to_excel('Base_Fipe.xlsx', index=False)"
   ]
  }
 ],
 "metadata": {
  "kernelspec": {
   "display_name": "base",
   "language": "python",
   "name": "python3"
  },
  "language_info": {
   "codemirror_mode": {
    "name": "ipython",
    "version": 3
   },
   "file_extension": ".py",
   "mimetype": "text/x-python",
   "name": "python",
   "nbconvert_exporter": "python",
   "pygments_lexer": "ipython3",
   "version": "3.12.7"
  }
 },
 "nbformat": 4,
 "nbformat_minor": 5
}
