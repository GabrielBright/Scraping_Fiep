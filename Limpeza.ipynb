{
 "cells": [
  {
   "cell_type": "markdown",
   "id": "dc593c6b",
   "metadata": {},
   "source": [
    "Filtros"
   ]
  },
  {
   "cell_type": "code",
   "execution_count": 2,
   "id": "b026d8b6",
   "metadata": {},
   "outputs": [],
   "source": [
    "import pandas as pd\n",
    "\n",
    "fipe_base = pd.read_excel('Fipe_temp.xlsx')\n",
    "\n",
    "# Separar 'Ano' e 'Combustivel'\n",
    "fipe_base[['Ano', 'Combustivel']] = fipe_base['AnoSelecionado'].str.split(' ', n=1, expand=True)\n",
    "\n",
    "# Limpar resíduos como \"KM\", \"a\", \"é\" e espaços em branco\n",
    "fipe_base['Combustivel'] = (\n",
    "    fipe_base['Combustivel']\n",
    "    .str.replace(r'\\b(KM|a|é)\\b', '', regex=True)  \n",
    "    .str.strip()                                   \n",
    ")\n",
    "\n",
    "# Remover coluna antiga\n",
    "fipe_base = fipe_base.drop(columns=['AnoSelecionado'])\n",
    "\n",
    "# Renomear colunas\n",
    "fipe_base.rename(columns={\n",
    "    'MarcaSelecionada': 'Marca',\n",
    "    'ModeloSelecionado': 'Modelo',\n",
    "    'CodigoFipe': 'Codigo Fipe',\n",
    "    'PrecoMedio': 'Preco Medio'\n",
    "}, inplace=True)\n",
    "\n",
    "# Reordenar colunas\n",
    "ordem_colunas = ['Marca', 'Modelo', 'Codigo Fipe', 'Preco Medio', 'Combustivel', 'Ano',  'Mes Referencia']\n",
    "fipe_base = fipe_base[ordem_colunas]\n",
    "\n",
    "# Exportar para Excel\n",
    "fipe_base.to_excel('Base_Fipe.xlsx', index=False)\n"
   ]
  }
 ],
 "metadata": {
  "kernelspec": {
   "display_name": "base",
   "language": "python",
   "name": "python3"
  },
  "language_info": {
   "codemirror_mode": {
    "name": "ipython",
    "version": 3
   },
   "file_extension": ".py",
   "mimetype": "text/x-python",
   "name": "python",
   "nbconvert_exporter": "python",
   "pygments_lexer": "ipython3",
   "version": "3.12.7"
  }
 },
 "nbformat": 4,
 "nbformat_minor": 5
}
